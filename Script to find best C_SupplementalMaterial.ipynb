{
 "cells": [
  {
   "cell_type": "markdown",
   "metadata": {},
   "source": [
    "# Scan of AIC to fix C and constrain ka/k2 (if necessary)"
   ]
  },
  {
   "cell_type": "code",
   "execution_count": 1,
   "metadata": {},
   "outputs": [],
   "source": [
    "#Libraries\n",
    "from scipy import stats\n",
    "import numpy as np\n",
    "import matplotlib.pyplot as plt\n",
    "from lmfit import minimize, Parameters, Parameter, fit_report"
   ]
  },
  {
   "cell_type": "code",
   "execution_count": 2,
   "metadata": {},
   "outputs": [],
   "source": [
    "#Functions\n",
    "def residual(pars, x, data=None):\n",
    "    C = pars['C']\n",
    "    ka = pars['ka']\n",
    "    k2 = pars['k2']\n",
    "    model = C*(-np.exp(-ka*x) + np.exp(-k2*x))\n",
    "    if data is None:\n",
    "        return model\n",
    "\n",
    "    return model - data\n",
    "\n",
    "def One_Elimination(x, C, ka, k2):\n",
    "    return C*(-np.exp(-ka*x) + np.exp(-k2*x))"
   ]
  },
  {
   "cell_type": "markdown",
   "metadata": {},
   "source": [
    "## AIC scans"
   ]
  },
  {
   "cell_type": "code",
   "execution_count": 3,
   "metadata": {
    "scrolled": false
   },
   "outputs": [],
   "source": [
    "#Fitting of random curves\n",
    "\n",
    "C_vector = []\n",
    "ka_vector = []\n",
    "k2_vector = []\n",
    "AIC_vector = []\n",
    "\n",
    "n=1000 #change here the number of random simulations\n",
    "#print(n)\n",
    "\n",
    "for i in range(0,n):\n",
    "    x_values = np.array([0, 15, 30, 45, 60, 75, 90, 105, 120])\n",
    "        \n",
    "    selection = 1 #Select 1 to use real means, or 0 to use random integers based on normal distribution of time points\n",
    "    if selection == 0:\n",
    "        #In this section, the mean of all animals is entered per time point, together with the standard deviation\n",
    "        t0 = 0 \n",
    "        t15 = np.random.normal(1.43, 0.65)\n",
    "        t30 = np.random.normal(1.54, 0.54)\n",
    "        t45 = np.random.normal(1.24, 0.53)\n",
    "        t60 = np.random.normal(0.85, 0.42)\n",
    "        t60 = np.random.normal(0.64, 0.40)\n",
    "        t60 = np.random.normal(0.44, 0.31)\n",
    "        t60 = np.random.normal(0.33, 0.28)\n",
    "        t60 = np.random.normal(0.26, 0.27)\n",
    "        y_values = np.array([t0, t15, t30, t45, t60, t75, t90, t105, t120]) #random values following normal distribution\n",
    "    else:\n",
    "        y_values = np.array([0, 1.43, 1.54, 1.24, 0.85, 0.64, 0.44, 0.33, 0.26]) # real mean\n",
    "            \n",
    "    #Initial guess for parameters\n",
    "    C_=0.01*i #screens a range of C values (adapt according to dataset)\n",
    "    # C_ = 1\n",
    "    ka_=0.1\n",
    "    k2_=0.01\n",
    "\n",
    "   # set parameters including bounds; you can also fix parameters (use vary=False)\n",
    "    params = Parameters()\n",
    "    params.add('C', value=C_, vary = False) \n",
    "    params.add('ka', value=ka_, min = 0, max = np.inf) \n",
    "    params.add('k2', value=k2_, min = 0, max = np.inf) \n",
    "\n",
    "    result = minimize(residual, params, args=(x_values, y_values), method='leastsq') \n",
    "\n",
    "    show = 0 # show=0 do not show plots and report, show=1 show plots for each randomly generated curve\n",
    "    if show == 1:\n",
    "        data_fitted = One_Elimination(np.linspace(0, 180, 181), result.params['C'].value,result.params['ka'].value,result.params['k2'].value)\n",
    "        plt.figure()\n",
    "        plt.scatter(x_values, y_values, marker='.', label='data')\n",
    "        plt.plot(np.linspace(0, 180, 181), data_fitted, color = 'orange', label='fit')\n",
    "        plt.xlabel('Time')\n",
    "        plt.ylabel('Tracer')\n",
    "        plt.legend()\n",
    "        plt.show()\n",
    "        print(fit_report(result))\n",
    "    \n",
    "    C_vector.append(result.params['C'].value)\n",
    "    ka_vector.append(result.params['ka'].value)\n",
    "    k2_vector.append(result.params['k2'].value)\n",
    "    AIC_vector.append(result.aic)\n"
   ]
  },
  {
   "cell_type": "code",
   "execution_count": 4,
   "metadata": {},
   "outputs": [
    {
     "data": {
      "image/png": "[encoded data removed]",
      "text/plain": [
       "<Figure size 432x288 with 1 Axes>"
      ]
     },
     "metadata": {
      "needs_background": "light"
     },
     "output_type": "display_data"
    }
   ],
   "source": [
    "#Plot AIC vs C (random or mean-based)\n",
    "\n",
    "fig2, ax = plt.subplots(1)\n",
    "ax.plot(C_vector, AIC_vector, 'o', color='black')\n",
    "ax.set_xlabel('C', fontsize=16)\n",
    "ax.set_ylabel('AIC', fontsize=16)\n",
    "#ax.set_title('%s scan')\n",
    "plt.rcParams['font.size'] = '16'\n",
    "# Set tick font size\n",
    "for label in (ax.get_xticklabels() + ax.get_yticklabels()):\n",
    "    label.set_fontsize(12)\n",
    "fig2.savefig('AIC vs C v3.png', dpi=600, bbox_inches='tight')"
   ]
  },
  {
   "cell_type": "markdown",
   "metadata": {},
   "source": [
    "## Correlations between ka and k2"
   ]
  },
  {
   "cell_type": "code",
   "execution_count": null,
   "metadata": {
    "scrolled": true
   },
   "outputs": [],
   "source": [
    "#Fitting of random curves\n",
    "\n",
    "C_vector = []\n",
    "ka_vector = []\n",
    "k2_vector = []\n",
    "AIC_vector = []\n",
    "\n",
    "n=1000 #change here the number of random simulations\n",
    "#print(n)\n",
    "\n",
    "for i in range(0,n):\n",
    "    x_values = np.array([0, 15, 30, 45, 60, 75, 90, 105, 120])\n",
    "        \n",
    "    selection = 0 #Select 1 to use real means, or 0 to use random integers based on normal distribution of time points\n",
    "    if selection == 0:\n",
    "        #In this section, the mean of all animals is entered per time point, together with the standard deviation\n",
    "        t0 = 0 \n",
    "        t15 = np.random.normal(1.43, 0.65)\n",
    "        t30 = np.random.normal(1.54, 0.54)\n",
    "        t45 = np.random.normal(1.24, 0.53)\n",
    "        t60 = np.random.normal(0.85, 0.42)\n",
    "        t60 = np.random.normal(0.64, 0.40)\n",
    "        t60 = np.random.normal(0.44, 0.31)\n",
    "        t60 = np.random.normal(0.33, 0.28)\n",
    "        t60 = np.random.normal(0.26, 0.27)\n",
    "        y_values = np.array([t0, t15, t30, t45, t60, t75, t90, t105, t120]) #random values following normal distribution\n",
    "    else:\n",
    "        y_values = np.array([0, 1.43, 1.54, 1.24, 0.85, 0.64, 0.44, 0.33, 0.26]) # real mean\n",
    "            \n",
    "   \n",
    "    #Initial guess for parameters\n",
    "\n",
    "    C_options = [0.025,0.05,0.075,0.1,0.125,0.15,0.2] #values of C to be scaned, specify based on results from AIC scan\n",
    "    #C_options = [0.34]\n",
    "    ka_subvector = []\n",
    "    k2_subvector = []\n",
    "    aic_subvector = []\n",
    "    for m in range(len(C_options)):\n",
    "        C_= C_options[m] #to change C value\n",
    "        ka_=0.10\n",
    "        ke_=0.01\n",
    "\n",
    "       # set parameters including bounds; you can also fix parameters (use vary=False)\n",
    "        params = Parameters()\n",
    "        params.add('C', value=C_, vary = False) #in=-np.inf, max=np.inf)\n",
    "        params.add('ka', value=ka_, min = 0, max = np.inf) \n",
    "        params.add('k2', value=k2_, min = 0, max = np.inf) \n",
    "\n",
    "\n",
    "        result = minimize(residual, params, args=(x_values, y_values), method='leastsq') \n",
    "\n",
    "        # check results of the fit\n",
    "        show = 0 # show=0 do not show plots and report, show=1 show\n",
    "        if show == 1:\n",
    "            data_fitted = One_Elimination(np.linspace(0, 180, 181), result.params['C'].value,result.params['ka'].value,result.params['k2'].value)\n",
    "            plt.figure()\n",
    "            plt.scatter(x_values, y_values, marker='.', label='data')\n",
    "            plt.plot(np.linspace(0, 180, 181), data_fitted, color = 'orange', label='fit')\n",
    "            plt.xlabel('Time')\n",
    "            plt.ylabel('Tracer')\n",
    "            plt.legend()\n",
    "            plt.show()\n",
    "\n",
    "        ka_subvector.append(result.params['ka'].value)\n",
    "        k2_subvector.append(result.params['k2'].value)\n",
    "        aic_subvector.append(result.aic)\n",
    "\n",
    "    ka_vector.append(ka_subvector)\n",
    "    k2_vector.append(k2_subvector)\n",
    "    AIC_vector.append(aic_subvector)\n",
    "\n",
    "ka_new = np.array(ka_vector)\n",
    "k2_new = np.array(k2_vector)\n",
    "rho_vector = []\n",
    "\n",
    "#Calculates correlation coefficients\n",
    "for n in range(len(C_options)):\n",
    "    ka = ka_new[:,n]\n",
    "    k2 = k2_new[:,n]\n",
    "    rho, pval = stats.spearmanr(ka, k2)\n",
    "    rho_vector.append(rho)\n",
    "    "
   ]
  },
  {
   "cell_type": "code",
   "execution_count": null,
   "metadata": {
    "scrolled": false
   },
   "outputs": [],
   "source": [
    "#Plots C vs Spearman r (correlation between ka and k2)\n",
    "\n",
    "fig2, ax = plt.subplots(1)\n",
    "ax.plot(C_options, rho_vector, '.r-') #'o', color='black')\n",
    "ax.set_xlabel('C', fontsize=16)\n",
    "ax.set_ylabel('Spearman r', fontsize=16)\n",
    "#ax.set_title('%s scan' %name_group)\n",
    "ax.set(ylim=(0.0, 1))\n",
    "plt.rcParams['font.size'] = '16'\n",
    "plt.axhline(y=0.5, color='b', linestyle='dotted')\n",
    "plt.axvline(x=0.095, color='b', linestyle='solid') #Add ine to plot a vertical line\n",
    "# Set tick font size\n",
    "for label in (ax.get_xticklabels() + ax.get_yticklabels()):\n",
    "    label.set_fontsize(12)\n",
    "plt.show()\n",
    "fig2.savefig('C vs Spearman r.png' , dpi=600)"
   ]
  },
  {
   "cell_type": "markdown",
   "metadata": {},
   "source": [
    "## Confidence interval for ka"
   ]
  },
  {
   "cell_type": "code",
   "execution_count": null,
   "metadata": {},
   "outputs": [],
   "source": [
    "#Fitting of random curves\n",
    "\n",
    "C_vector = []\n",
    "ka_vector = []\n",
    "k2_vector = []\n",
    "AIC_vector = []\n",
    "\n",
    "n=1000 #change here the number of random simulations\n",
    "#print(n)\n",
    "\n",
    "for i in range(0,n):\n",
    "    x_values = np.array([0, 15, 30, 45, 60, 75, 90, 105, 120])\n",
    "        \n",
    "    selection = 0 #Select 1 to use real means, or 0 to use random integers based on normal distribution of time points\n",
    "    if selection == 0:\n",
    "        #In this section, the mean of all animals is entered per time point, together with the standard deviation\n",
    "        t0 = 0 \n",
    "        t15 = np.random.normal(1.43, 0.65)\n",
    "        t30 = np.random.normal(1.54, 0.54)\n",
    "        t45 = np.random.normal(1.24, 0.53)\n",
    "        t60 = np.random.normal(0.85, 0.42)\n",
    "        t60 = np.random.normal(0.64, 0.40)\n",
    "        t60 = np.random.normal(0.44, 0.31)\n",
    "        t60 = np.random.normal(0.33, 0.28)\n",
    "        t60 = np.random.normal(0.26, 0.27)\n",
    "        y_values = np.array([t0, t15, t30, t45, t60, t75, t90, t105, t120]) #random values following normal distribution\n",
    "    else:\n",
    "        y_values = np.array([0, 1.43, 1.54, 1.24, 0.85, 0.64, 0.44, 0.33, 0.26]) # real mean\n",
    "\n",
    "    #Initial guess for parameters\n",
    "    C_=0.095\n",
    "    ka_=0.1\n",
    "    k2_=0.01\n",
    "\n",
    "   # set parameters including bounds; you can also fix parameters (use vary=False)\n",
    "    params = Parameters()\n",
    "    params.add('C', value=C_, vary = False) \n",
    "    params.add('ka', value=ka_, min = 0, max = np.inf) \n",
    "    params.add('k2', value=k2_, min = 0, max = np.inf) \n",
    "\n",
    "    result = minimize(residual, params, args=(x_values, y_values), method='leastsq') \n",
    "\n",
    "    show = 0 # show=0 do not show plots and report, show=1 show\n",
    "    if show == 1:\n",
    "        data_fitted = One_Elimination(np.linspace(0, 180, 181), result.params['C'].value,result.params['ka'].value,result.params['k2'].value)\n",
    "        plt.figure()\n",
    "        plt.scatter(x_values, y_values, marker='.', label='data')\n",
    "        plt.plot(np.linspace(0, 180, 181), data_fitted, color = 'orange', label='fit')\n",
    "        plt.xlabel('Time')\n",
    "        plt.ylabel('Tracer')\n",
    "        plt.legend()\n",
    "        plt.show()\n",
    "        print(fit_report(result))\n",
    "    \n",
    "    \n",
    "    C_vector.append(result.params['C'].value)\n",
    "    ka_vector.append(result.params['ka'].value)\n",
    "    k2_vector.append(result.params['k2'].value)\n",
    "    AIC_vector.append(result.aic)"
   ]
  },
  {
   "cell_type": "code",
   "execution_count": null,
   "metadata": {
    "scrolled": false
   },
   "outputs": [],
   "source": [
    "# Histogram for k2 values\n",
    "\n",
    "n, bins, patches = plt.hist(x=k2_vector, bins='auto', alpha=0.7, rwidth=0.85)\n",
    "plt.grid(axis='y', alpha=0.75)\n",
    "plt.xlabel('k2', fontsize=16)\n",
    "plt.ylabel('Frequency', fontsize=16)\n",
    "maxfreq = n.max()\n",
    "# Set a clean upper y-axis limit.\n",
    "plt.ylim(top=np.ceil(maxfreq / 10) * 10 if maxfreq % 10 else maxfreq + 10);\n",
    "\n",
    "plt.savefig('k2 distribution.png', dpi=600, bbox_inches='tight');\n"
   ]
  },
  {
   "cell_type": "code",
   "execution_count": null,
   "metadata": {
    "scrolled": true
   },
   "outputs": [],
   "source": [
    "#Histogram for ka values\n",
    "\n",
    "n, bins, patches = plt.hist(x=ka_vector, bins='auto', color='#0504aa',\n",
    "                            alpha=0.7, rwidth=0.85)\n",
    "plt.grid(axis='y', alpha=0.75)\n",
    "plt.xlabel('ka', fontsize=16)\n",
    "plt.ylabel('Frequency', fontsize=16)\n",
    "maxfreq = n.max()\n",
    "# Set a clean upper y-axis limit.\n",
    "plt.ylim(top=np.ceil(maxfreq / 10) * 10 if maxfreq % 10 else maxfreq + 10);\n",
    "\n",
    "plt.savefig('ka distribution_notfiltered.png', dpi=600, bbox_inches='tight');\n"
   ]
  },
  {
   "cell_type": "code",
   "execution_count": null,
   "metadata": {},
   "outputs": [],
   "source": [
    "#To filter values from ka vector that are higher than 1.0 (depends on the threshold to be selected)\n",
    "\n",
    "ka_new = []\n",
    "for i in range(len(ka_vector)):\n",
    "    if ka_vector[i] < 1.0:\n",
    "        ka_new.append(ka_vector[i])"
   ]
  },
  {
   "cell_type": "code",
   "execution_count": null,
   "metadata": {
    "scrolled": true
   },
   "outputs": [],
   "source": [
    "#Replots ka values histogram\n",
    "n, bins, patches = plt.hist(x=ka_new, bins='auto', color='#0504aa',\n",
    "                            alpha=0.7, rwidth=0.85)\n",
    "plt.grid(axis='y', alpha=0.75)\n",
    "plt.xlabel('ka', fontsize=16)\n",
    "plt.ylabel('Frequency', fontsize=16)\n",
    "maxfreq = n.max()\n",
    "# Set a clean upper y-axis limit.\n",
    "plt.ylim(top=np.ceil(maxfreq / 10) * 10 if maxfreq % 10 else maxfreq + 10);\n",
    "\n",
    "plt.savefig('ka distribution.png', dpi=600, bbox_inches='tight');"
   ]
  },
  {
   "cell_type": "code",
   "execution_count": null,
   "metadata": {},
   "outputs": [],
   "source": [
    "#Returns the 95% CI of the median for ka and k2\n",
    "print('k2 median:', round(np.median(k2_vector),3), ', 95%CI:', round(np.percentile(k2_vector,2.5),4), '-', round(np.percentile(k2_vector,97.5),4))\n",
    "print('ka median:', round(np.median(ka_new),3), ', 95%CI:', round(np.percentile(ka_new,2.5),3), '-', round(np.percentile(ka_new,97.5),4))"
   ]
  },
  {
   "cell_type": "code",
   "execution_count": null,
   "metadata": {},
   "outputs": [],
   "source": []
  }
 ],
 "metadata": {
  "kernelspec": {
   "display_name": "Python 3 (ipykernel)",
   "language": "python",
   "name": "python3"
  },
  "language_info": {
   "codemirror_mode": {
    "name": "ipython",
    "version": 3
   },
   "file_extension": ".py",
   "mimetype": "text/x-python",
   "name": "python",
   "nbconvert_exporter": "python",
   "pygments_lexer": "ipython3",
   "version": "3.9.7"
  }
 },
 "nbformat": 4,
 "nbformat_minor": 2
}
